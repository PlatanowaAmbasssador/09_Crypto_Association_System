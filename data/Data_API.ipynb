{
 "cells": [
  {
   "cell_type": "code",
   "execution_count": 1,
   "metadata": {},
   "outputs": [],
   "source": [
    "import requests\n",
    "import pandas as pd\n",
    "import numpy as np\n",
    "import time"
   ]
  },
  {
   "cell_type": "code",
   "execution_count": 2,
   "metadata": {},
   "outputs": [],
   "source": [
    "ETHERSCAN_API_KEY = \"J2KQ86SQBG9C1HP1DSTCPVC8NGRZKREAJZ\"  \n",
    "\n",
    "wallet_addresses = [\n",
    "    \"0x995fA1a5Fb41059AEc58e2EFC89af420A31bd1CA\",\n",
    "    \"0xaA4833eb0E17b0592f8a1F7B5dC90c9996D3e03c\",\n",
    "    \"0x806da6028769CC9Ef2Ca17364C354df0f2deCA7c\",\n",
    "    \"0xb1b2d032AA2F52347fbcfd08E5C3Cc55216E8404\",\n",
    "    \"0x9a5B9fBe958f977DD0118aE082847a396313443D\",\n",
    "    \"0x8EC5Fb1daAD8041d419be7695bC47E26067C3778\",\n",
    "    \"0xD4835DF7CA0660BD299513153F0a150e2aa037a2\",\n",
    "    \"0xf8108bc1a9De692161b232E16D2B4E1924757FFd\",\n",
    "    \"0xeeFa4E269c6dD0eE1f1FB04bfa4159C2D76f1516\",\n",
    "    \"0x1ba98272731f1Ab5cC33a02F88694C39916E26dF\",\n",
    "    \"0x17fB4A31B8A468cD5Be0EA6E037781Eb5f19643e\",\n",
    "    \"0xAA027e4c85C9fEA3Ff8C3b543e1729054c07E38B\",\n",
    "    \"0xADd05081585254d170F314ecA7d00ED395d53Bb0\",\n",
    "    \"0xbB038ADb68a8eeDBAA37603a08188B4a6383698c\",\n",
    "    \"0x1571Cc01E9321e4Adc9EB1bf79366552ce9D056e\",\n",
    "    \"0x5a210aa8ce06570a7A97646368343c1Fa7484B72\",\n",
    "    \"0xE6680D000F3C27b148E61346549FdDd682E7ccA0\"\n",
    "]"
   ]
  },
  {
   "cell_type": "code",
   "execution_count": 3,
   "metadata": {},
   "outputs": [],
   "source": [
    "transactions = []\n",
    "\n",
    "for wallet_address in wallet_addresses:\n",
    "    url = f\"https://api.etherscan.io/api?module=account&action=tokentx&address={wallet_address}&startblock=0&endblock=99999999&sort=asc&apikey={ETHERSCAN_API_KEY}\"\n",
    "    \n",
    "    response = requests.get(url)\n",
    "    data = response.json()\n",
    "\n",
    "    for tx in data['result']:\n",
    "        from_address = tx['from']\n",
    "        to_address = tx['to']\n",
    "        token_name = tx['tokenName']\n",
    "        token_symbol = tx['tokenSymbol']\n",
    "        token_contract_address = tx['contractAddress'] \n",
    "        amount = int(tx['value']) / (10 ** int(tx['tokenDecimal']))  # Convert from wei\n",
    "        timestamp = pd.to_datetime(int(tx['timeStamp']), unit='s')\n",
    "        gas_price = int(tx['gasPrice']) / (10 ** 9)  # Convert gas price from gwei to ETH\n",
    "        is_buy = 'buy' if to_address.lower() == wallet_address.lower() else 'sell'\n",
    "        \n",
    "        # Append the transaction data\n",
    "        transactions.append({\n",
    "            'Wallet Address': wallet_address,\n",
    "            'Token Name': token_name,\n",
    "            'Token Symbol': token_symbol,\n",
    "            'Token Contract Address': token_contract_address,\n",
    "            'Amount': amount,\n",
    "            'Gas Price (ETH)': gas_price,\n",
    "            'Buy/Sell': is_buy,\n",
    "            'From': from_address,\n",
    "            'To': to_address,\n",
    "            'Timestamp': timestamp\n",
    "        })\n",
    "    \n",
    "    # Add a 1 second delay between each wallet address\n",
    "    time.sleep(1)\n",
    "\n",
    "df = pd.DataFrame(transactions)\n"
   ]
  },
  {
   "cell_type": "code",
   "execution_count": 4,
   "metadata": {},
   "outputs": [
    {
     "data": {
      "text/html": [
       "<div>\n",
       "<style scoped>\n",
       "    .dataframe tbody tr th:only-of-type {\n",
       "        vertical-align: middle;\n",
       "    }\n",
       "\n",
       "    .dataframe tbody tr th {\n",
       "        vertical-align: top;\n",
       "    }\n",
       "\n",
       "    .dataframe thead th {\n",
       "        text-align: right;\n",
       "    }\n",
       "</style>\n",
       "<table border=\"1\" class=\"dataframe\">\n",
       "  <thead>\n",
       "    <tr style=\"text-align: right;\">\n",
       "      <th></th>\n",
       "      <th>Wallet Address</th>\n",
       "      <th>Token Name</th>\n",
       "      <th>Token Symbol</th>\n",
       "      <th>Token Contract Address</th>\n",
       "      <th>Amount</th>\n",
       "      <th>Gas Price (ETH)</th>\n",
       "      <th>Buy/Sell</th>\n",
       "      <th>From</th>\n",
       "      <th>To</th>\n",
       "      <th>Timestamp</th>\n",
       "    </tr>\n",
       "  </thead>\n",
       "  <tbody>\n",
       "    <tr>\n",
       "      <th>0</th>\n",
       "      <td>0x995fA1a5Fb41059AEc58e2EFC89af420A31bd1CA</td>\n",
       "      <td>bZx Protocol Token</td>\n",
       "      <td>BZRX</td>\n",
       "      <td>0x56d811088235f11c8920698a204a5010a788f4b3</td>\n",
       "      <td>1.355777e+03</td>\n",
       "      <td>29.000000</td>\n",
       "      <td>buy</td>\n",
       "      <td>0xb9b752f7f4a4680eeb327ffe728f46666763a796</td>\n",
       "      <td>0x995fa1a5fb41059aec58e2efc89af420a31bd1ca</td>\n",
       "      <td>2020-11-13 20:25:09</td>\n",
       "    </tr>\n",
       "    <tr>\n",
       "      <th>1</th>\n",
       "      <td>0x995fA1a5Fb41059AEc58e2EFC89af420A31bd1CA</td>\n",
       "      <td>bZx Protocol Token</td>\n",
       "      <td>BZRX</td>\n",
       "      <td>0x56d811088235f11c8920698a204a5010a788f4b3</td>\n",
       "      <td>1.355777e+03</td>\n",
       "      <td>61.000000</td>\n",
       "      <td>sell</td>\n",
       "      <td>0x995fa1a5fb41059aec58e2efc89af420a31bd1ca</td>\n",
       "      <td>0xb9b752f7f4a4680eeb327ffe728f46666763a796</td>\n",
       "      <td>2020-11-18 08:14:11</td>\n",
       "    </tr>\n",
       "    <tr>\n",
       "      <th>2</th>\n",
       "      <td>0x995fA1a5Fb41059AEc58e2EFC89af420A31bd1CA</td>\n",
       "      <td>bZx Protocol Token</td>\n",
       "      <td>BZRX</td>\n",
       "      <td>0x56d811088235f11c8920698a204a5010a788f4b3</td>\n",
       "      <td>8.769968e+02</td>\n",
       "      <td>68.000000</td>\n",
       "      <td>buy</td>\n",
       "      <td>0xb9b752f7f4a4680eeb327ffe728f46666763a796</td>\n",
       "      <td>0x995fa1a5fb41059aec58e2efc89af420a31bd1ca</td>\n",
       "      <td>2020-11-19 18:16:34</td>\n",
       "    </tr>\n",
       "    <tr>\n",
       "      <th>3</th>\n",
       "      <td>0x995fA1a5Fb41059AEc58e2EFC89af420A31bd1CA</td>\n",
       "      <td>bZx Protocol Token</td>\n",
       "      <td>BZRX</td>\n",
       "      <td>0x56d811088235f11c8920698a204a5010a788f4b3</td>\n",
       "      <td>8.769968e+02</td>\n",
       "      <td>64.000000</td>\n",
       "      <td>sell</td>\n",
       "      <td>0x995fa1a5fb41059aec58e2efc89af420a31bd1ca</td>\n",
       "      <td>0xb9b752f7f4a4680eeb327ffe728f46666763a796</td>\n",
       "      <td>2020-11-20 13:07:47</td>\n",
       "    </tr>\n",
       "    <tr>\n",
       "      <th>4</th>\n",
       "      <td>0x995fA1a5Fb41059AEc58e2EFC89af420A31bd1CA</td>\n",
       "      <td>FreewayToken</td>\n",
       "      <td>FWT</td>\n",
       "      <td>0xf151980e7a781481709e8195744bf2399fb3cba4</td>\n",
       "      <td>7.073318e+04</td>\n",
       "      <td>77.000000</td>\n",
       "      <td>buy</td>\n",
       "      <td>0xe0deb97487bddf4c28ab1aa169179db0da625b29</td>\n",
       "      <td>0x995fa1a5fb41059aec58e2efc89af420a31bd1ca</td>\n",
       "      <td>2020-11-22 00:31:15</td>\n",
       "    </tr>\n",
       "    <tr>\n",
       "      <th>...</th>\n",
       "      <td>...</td>\n",
       "      <td>...</td>\n",
       "      <td>...</td>\n",
       "      <td>...</td>\n",
       "      <td>...</td>\n",
       "      <td>...</td>\n",
       "      <td>...</td>\n",
       "      <td>...</td>\n",
       "      <td>...</td>\n",
       "      <td>...</td>\n",
       "    </tr>\n",
       "    <tr>\n",
       "      <th>19718</th>\n",
       "      <td>0xE6680D000F3C27b148E61346549FdDd682E7ccA0</td>\n",
       "      <td>Wisdomise AI</td>\n",
       "      <td>WISDOMISE AI</td>\n",
       "      <td>0x889967c644f7c1ebf9b7253603f324eb5f293b6c</td>\n",
       "      <td>6.666550e+15</td>\n",
       "      <td>0.951331</td>\n",
       "      <td>buy</td>\n",
       "      <td>0xf56f9ae199e09c4ab91d2ed65860c30862bbade8</td>\n",
       "      <td>0xe6680d000f3c27b148e61346549fddd682e7cca0</td>\n",
       "      <td>2025-02-08 03:06:59</td>\n",
       "    </tr>\n",
       "    <tr>\n",
       "      <th>19719</th>\n",
       "      <td>0xE6680D000F3C27b148E61346549FdDd682E7ccA0</td>\n",
       "      <td>Wisdomise AI</td>\n",
       "      <td>WISDOMISE AI</td>\n",
       "      <td>0x889967c644f7c1ebf9b7253603f324eb5f293b6c</td>\n",
       "      <td>8.888500e+13</td>\n",
       "      <td>1.302850</td>\n",
       "      <td>buy</td>\n",
       "      <td>0xf56f9ae199e09c4ab91d2ed65860c30862bbade8</td>\n",
       "      <td>0xe6680d000f3c27b148e61346549fddd682e7cca0</td>\n",
       "      <td>2025-02-08 05:03:23</td>\n",
       "    </tr>\n",
       "    <tr>\n",
       "      <th>19720</th>\n",
       "      <td>0xE6680D000F3C27b148E61346549FdDd682E7ccA0</td>\n",
       "      <td>Mojo AI</td>\n",
       "      <td>MOJO AI</td>\n",
       "      <td>0xd6619a3e925472a8d7822cc6a49b76b3554a3498</td>\n",
       "      <td>7.687700e+13</td>\n",
       "      <td>1.371696</td>\n",
       "      <td>buy</td>\n",
       "      <td>0xa2985ac186356bfa0f35d2ed86fb68aba7d0a614</td>\n",
       "      <td>0xe6680d000f3c27b148e61346549fddd682e7cca0</td>\n",
       "      <td>2025-02-08 05:04:23</td>\n",
       "    </tr>\n",
       "    <tr>\n",
       "      <th>19721</th>\n",
       "      <td>0xE6680D000F3C27b148E61346549FdDd682E7ccA0</td>\n",
       "      <td>Wisdomise AI</td>\n",
       "      <td>WISDOMISE AI</td>\n",
       "      <td>0x889967c644f7c1ebf9b7253603f324eb5f293b6c</td>\n",
       "      <td>6.666600e+14</td>\n",
       "      <td>0.830912</td>\n",
       "      <td>buy</td>\n",
       "      <td>0xf56f9ae199e09c4ab91d2ed65860c30862bbade8</td>\n",
       "      <td>0xe6680d000f3c27b148e61346549fddd682e7cca0</td>\n",
       "      <td>2025-02-09 02:26:35</td>\n",
       "    </tr>\n",
       "    <tr>\n",
       "      <th>19722</th>\n",
       "      <td>0xE6680D000F3C27b148E61346549FdDd682E7ccA0</td>\n",
       "      <td>KATSU DAO</td>\n",
       "      <td>KATSU</td>\n",
       "      <td>0x1cbbc8ac0f03b55d60040ca05cbf754448d64fde</td>\n",
       "      <td>1.000000e+11</td>\n",
       "      <td>1.320546</td>\n",
       "      <td>buy</td>\n",
       "      <td>0x3fcc25d3a814f0826168be1a614ba64a14a59f67</td>\n",
       "      <td>0xe6680d000f3c27b148e61346549fddd682e7cca0</td>\n",
       "      <td>2025-02-09 11:18:59</td>\n",
       "    </tr>\n",
       "  </tbody>\n",
       "</table>\n",
       "<p>19723 rows × 10 columns</p>\n",
       "</div>"
      ],
      "text/plain": [
       "                                   Wallet Address          Token Name  \\\n",
       "0      0x995fA1a5Fb41059AEc58e2EFC89af420A31bd1CA  bZx Protocol Token   \n",
       "1      0x995fA1a5Fb41059AEc58e2EFC89af420A31bd1CA  bZx Protocol Token   \n",
       "2      0x995fA1a5Fb41059AEc58e2EFC89af420A31bd1CA  bZx Protocol Token   \n",
       "3      0x995fA1a5Fb41059AEc58e2EFC89af420A31bd1CA  bZx Protocol Token   \n",
       "4      0x995fA1a5Fb41059AEc58e2EFC89af420A31bd1CA        FreewayToken   \n",
       "...                                           ...                 ...   \n",
       "19718  0xE6680D000F3C27b148E61346549FdDd682E7ccA0        Wisdomise AI   \n",
       "19719  0xE6680D000F3C27b148E61346549FdDd682E7ccA0        Wisdomise AI   \n",
       "19720  0xE6680D000F3C27b148E61346549FdDd682E7ccA0             Mojo AI   \n",
       "19721  0xE6680D000F3C27b148E61346549FdDd682E7ccA0        Wisdomise AI   \n",
       "19722  0xE6680D000F3C27b148E61346549FdDd682E7ccA0           KATSU DAO   \n",
       "\n",
       "       Token Symbol                      Token Contract Address        Amount  \\\n",
       "0              BZRX  0x56d811088235f11c8920698a204a5010a788f4b3  1.355777e+03   \n",
       "1              BZRX  0x56d811088235f11c8920698a204a5010a788f4b3  1.355777e+03   \n",
       "2              BZRX  0x56d811088235f11c8920698a204a5010a788f4b3  8.769968e+02   \n",
       "3              BZRX  0x56d811088235f11c8920698a204a5010a788f4b3  8.769968e+02   \n",
       "4               FWT  0xf151980e7a781481709e8195744bf2399fb3cba4  7.073318e+04   \n",
       "...             ...                                         ...           ...   \n",
       "19718  WISDOMISE AI  0x889967c644f7c1ebf9b7253603f324eb5f293b6c  6.666550e+15   \n",
       "19719  WISDOMISE AI  0x889967c644f7c1ebf9b7253603f324eb5f293b6c  8.888500e+13   \n",
       "19720       MOJO AI  0xd6619a3e925472a8d7822cc6a49b76b3554a3498  7.687700e+13   \n",
       "19721  WISDOMISE AI  0x889967c644f7c1ebf9b7253603f324eb5f293b6c  6.666600e+14   \n",
       "19722         KATSU  0x1cbbc8ac0f03b55d60040ca05cbf754448d64fde  1.000000e+11   \n",
       "\n",
       "       Gas Price (ETH) Buy/Sell                                        From  \\\n",
       "0            29.000000      buy  0xb9b752f7f4a4680eeb327ffe728f46666763a796   \n",
       "1            61.000000     sell  0x995fa1a5fb41059aec58e2efc89af420a31bd1ca   \n",
       "2            68.000000      buy  0xb9b752f7f4a4680eeb327ffe728f46666763a796   \n",
       "3            64.000000     sell  0x995fa1a5fb41059aec58e2efc89af420a31bd1ca   \n",
       "4            77.000000      buy  0xe0deb97487bddf4c28ab1aa169179db0da625b29   \n",
       "...                ...      ...                                         ...   \n",
       "19718         0.951331      buy  0xf56f9ae199e09c4ab91d2ed65860c30862bbade8   \n",
       "19719         1.302850      buy  0xf56f9ae199e09c4ab91d2ed65860c30862bbade8   \n",
       "19720         1.371696      buy  0xa2985ac186356bfa0f35d2ed86fb68aba7d0a614   \n",
       "19721         0.830912      buy  0xf56f9ae199e09c4ab91d2ed65860c30862bbade8   \n",
       "19722         1.320546      buy  0x3fcc25d3a814f0826168be1a614ba64a14a59f67   \n",
       "\n",
       "                                               To           Timestamp  \n",
       "0      0x995fa1a5fb41059aec58e2efc89af420a31bd1ca 2020-11-13 20:25:09  \n",
       "1      0xb9b752f7f4a4680eeb327ffe728f46666763a796 2020-11-18 08:14:11  \n",
       "2      0x995fa1a5fb41059aec58e2efc89af420a31bd1ca 2020-11-19 18:16:34  \n",
       "3      0xb9b752f7f4a4680eeb327ffe728f46666763a796 2020-11-20 13:07:47  \n",
       "4      0x995fa1a5fb41059aec58e2efc89af420a31bd1ca 2020-11-22 00:31:15  \n",
       "...                                           ...                 ...  \n",
       "19718  0xe6680d000f3c27b148e61346549fddd682e7cca0 2025-02-08 03:06:59  \n",
       "19719  0xe6680d000f3c27b148e61346549fddd682e7cca0 2025-02-08 05:03:23  \n",
       "19720  0xe6680d000f3c27b148e61346549fddd682e7cca0 2025-02-08 05:04:23  \n",
       "19721  0xe6680d000f3c27b148e61346549fddd682e7cca0 2025-02-09 02:26:35  \n",
       "19722  0xe6680d000f3c27b148e61346549fddd682e7cca0 2025-02-09 11:18:59  \n",
       "\n",
       "[19723 rows x 10 columns]"
      ]
     },
     "execution_count": 4,
     "metadata": {},
     "output_type": "execute_result"
    }
   ],
   "source": [
    "df"
   ]
  },
  {
   "cell_type": "code",
   "execution_count": 7,
   "metadata": {},
   "outputs": [
    {
     "data": {
      "text/plain": [
       "Wallet Address\n",
       "0xb1b2d032AA2F52347fbcfd08E5C3Cc55216E8404    10000\n",
       "0x995fA1a5Fb41059AEc58e2EFC89af420A31bd1CA     3250\n",
       "0xADd05081585254d170F314ecA7d00ED395d53Bb0     1633\n",
       "0xD4835DF7CA0660BD299513153F0a150e2aa037a2     1473\n",
       "0xaA4833eb0E17b0592f8a1F7B5dC90c9996D3e03c      974\n",
       "0xf8108bc1a9De692161b232E16D2B4E1924757FFd      340\n",
       "0x1ba98272731f1Ab5cC33a02F88694C39916E26dF      316\n",
       "0xeeFa4E269c6dD0eE1f1FB04bfa4159C2D76f1516      263\n",
       "0x5a210aa8ce06570a7A97646368343c1Fa7484B72      260\n",
       "0xE6680D000F3C27b148E61346549FdDd682E7ccA0      255\n",
       "0x9a5B9fBe958f977DD0118aE082847a396313443D      234\n",
       "0x8EC5Fb1daAD8041d419be7695bC47E26067C3778      201\n",
       "0xbB038ADb68a8eeDBAA37603a08188B4a6383698c      192\n",
       "0x806da6028769CC9Ef2Ca17364C354df0f2deCA7c      170\n",
       "0x17fB4A31B8A468cD5Be0EA6E037781Eb5f19643e       95\n",
       "0x1571Cc01E9321e4Adc9EB1bf79366552ce9D056e       36\n",
       "0xAA027e4c85C9fEA3Ff8C3b543e1729054c07E38B       31\n",
       "Name: count, dtype: int64"
      ]
     },
     "execution_count": 7,
     "metadata": {},
     "output_type": "execute_result"
    }
   ],
   "source": [
    "df['Wallet Address'].value_counts()"
   ]
  },
  {
   "cell_type": "code",
   "execution_count": 6,
   "metadata": {},
   "outputs": [],
   "source": [
    "df.to_csv('ethereum_transactions.csv', index=False)"
   ]
  },
  {
   "cell_type": "code",
   "execution_count": 16,
   "metadata": {},
   "outputs": [
    {
     "data": {
      "text/plain": [
       "(2625, 10)"
      ]
     },
     "execution_count": 16,
     "metadata": {},
     "output_type": "execute_result"
    }
   ],
   "source": [
    "df.shape"
   ]
  },
  {
   "cell_type": "code",
   "execution_count": 13,
   "metadata": {},
   "outputs": [],
   "source": [
    "df = df[df['Buy/Sell'] == 'buy']"
   ]
  },
  {
   "cell_type": "code",
   "execution_count": 19,
   "metadata": {},
   "outputs": [
    {
     "data": {
      "text/plain": [
       "1193"
      ]
     },
     "execution_count": 19,
     "metadata": {},
     "output_type": "execute_result"
    }
   ],
   "source": [
    "len(df['Token Name'].unique())\n"
   ]
  },
  {
   "cell_type": "code",
   "execution_count": 15,
   "metadata": {},
   "outputs": [],
   "source": [
    "df = df.drop_duplicates(subset=['Wallet Address', 'Token Symbol'])"
   ]
  },
  {
   "cell_type": "code",
   "execution_count": 20,
   "metadata": {},
   "outputs": [
    {
     "data": {
      "text/plain": [
       "Buy/Sell\n",
       "buy    2625\n",
       "Name: count, dtype: int64"
      ]
     },
     "execution_count": 20,
     "metadata": {},
     "output_type": "execute_result"
    }
   ],
   "source": [
    "df['Buy/Sell'].value_counts()"
   ]
  },
  {
   "cell_type": "code",
   "execution_count": 21,
   "metadata": {},
   "outputs": [],
   "source": [
    "df.to_csv('ethereum_transactions.csv', index=False)"
   ]
  }
 ],
 "metadata": {
  "kernelspec": {
   "display_name": "Algo_Crypto",
   "language": "python",
   "name": "python3"
  },
  "language_info": {
   "codemirror_mode": {
    "name": "ipython",
    "version": 3
   },
   "file_extension": ".py",
   "mimetype": "text/x-python",
   "name": "python",
   "nbconvert_exporter": "python",
   "pygments_lexer": "ipython3",
   "version": "3.10.15"
  }
 },
 "nbformat": 4,
 "nbformat_minor": 2
}
